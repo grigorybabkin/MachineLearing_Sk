{
 "cells": [
  {
   "cell_type": "markdown",
   "metadata": {},
   "source": [
    "<a href=\"https://colab.research.google.com/github/adasegroup/ML2022_seminars/blob/master/seminar6/Adaboost2022_Seminar.ipynb\" target=\"_parent\"><img src=\"https://colab.research.google.com/assets/colab-badge.svg\" alt=\"Open In Colab\"/></a>"
   ]
  },
  {
   "cell_type": "code",
   "execution_count": null,
   "metadata": {
    "id": "qa2rPyOoHh3W"
   },
   "outputs": [],
   "source": [
    "!pip install -U scikit-learn \n",
    "!pip install matplotlib\n",
    "!pip install seaborn\n",
    "!pip install numpy\n",
    "!pip install pandas"
   ]
  },
  {
   "cell_type": "markdown",
   "metadata": {
    "id": "X9vNEXNSHh3d"
   },
   "source": [
    "# Adaboost\n",
    "\n",
    "## Boosting\n",
    "\n",
    "The underlying idea of boosting is to combine **cheap weak**\n",
    "predictiors into a strong **powerful ensemble**.\n",
    "\n",
    "![](https://www.researchgate.net/profile/Eiji_Hato/publication/264713074/figure/fig5/AS:614118558023749@1523428682764/Concept-of-AdaBoost.png)"
   ]
  },
  {
   "cell_type": "markdown",
   "metadata": {
    "id": "fUDatGA_Hh3f"
   },
   "source": [
    "### AdaBoost\n",
    "\n",
    "This algorithm uses a greedy strategy to construct an additive ensemble of size $T$\n",
    "from a dictionary of basis predictors.\n",
    "\n",
    "The size of the ensemble $T$ is a regularization parameter:\n",
    "* the greater the $T$, the more boosting overfits.\n",
    "\n",
    "**`AdaBoost.M1`**:\n",
    "\n",
    "![alt text](https://i.imgur.com/im1cMeS.jpg)"
   ]
  },
  {
   "cell_type": "markdown",
   "metadata": {
    "id": "-HG3IU9mHh3g"
   },
   "source": [
    "#### AdaBoost in SciKit\n",
    "\n",
    "The `ensemble` submodule implements both classification and regression\n",
    "versions of Adaboost\n",
    "* AdaBoostClassifier\n",
    "* AdaBoostRegressor\n",
    "\n",
    "Algorithms differ only in the **loss** used in determining the weight updates."
   ]
  },
  {
   "cell_type": "code",
   "execution_count": null,
   "metadata": {
    "id": "lmmZ92hNHh3h"
   },
   "outputs": [],
   "source": [
    "from sklearn.ensemble import AdaBoostClassifier, AdaBoostRegressor\n",
    "from sklearn.tree import DecisionTreeClassifier, DecisionTreeRegressor"
   ]
  },
  {
   "cell_type": "markdown",
   "metadata": {
    "id": "LE9cJo9eHh3k"
   },
   "source": [
    "### Adaboost params\n",
    "\n",
    "Common parameters:\n",
    "- **n_estimators** -- the maximum size of the ensemble (in **case of a perfect fit** boosting stops earlier);\n",
    "- **base_estimator** -- the base estimator of the ensemble, which must support **sample weighting**;\n",
    "- **learning_rate** -- scales each update, slowing down convergence, but making it more accurate.\n",
    "\n",
    "AdaBoostClassifier only:\n",
    "- **algorithm** -- the AdaBoost version to use:\n",
    "    * _\"SAMME\"_ -- the SAMME (**M1**) discrete boosting algorithm;\n",
    "    * _\"SAMME.R\"_ -- the SAMME.R real boosting algorithm, typically achieves a lower test error with fewer boosting iterations than `SAMME`.\n",
    "    \n",
    "AdaBoostRegressor only:\n",
    "- **loss** -- the loss function to use when updating the weights after each boosting iteration:\n",
    "    * _\"linear\"_ -- absolute loss $L(y, p) = |y-p|$;\n",
    "    * _\"square\"_ -- squared loss $L(y, p) = |y-p|^2$;\n",
    "    * _\"exponential\"_ -- Exponential loss L(y, p) = 1-e^{-|y-p|}."
   ]
  },
  {
   "cell_type": "markdown",
   "metadata": {
    "id": "HTEsW4B2Hh3k"
   },
   "source": [
    "# Practice: toy example"
   ]
  },
  {
   "cell_type": "code",
   "execution_count": null,
   "metadata": {
    "id": "4jBAauIMHh3l"
   },
   "outputs": [],
   "source": [
    "from sklearn.datasets import make_gaussian_quantiles\n",
    "from sklearn.model_selection import train_test_split\n",
    "from sklearn.metrics import roc_curve, accuracy_score, mean_absolute_error, mean_squared_error, f1_score\n",
    "import matplotlib.pyplot as plt\n",
    "import matplotlib as mpl\n",
    "import seaborn as sns\n",
    "import numpy as np\n",
    "import pandas as pd\n",
    "\n",
    "%matplotlib inline\n",
    "\n",
    "random_state = 1"
   ]
  },
  {
   "cell_type": "code",
   "execution_count": null,
   "metadata": {
    "id": "6JcpR-VBHh3o"
   },
   "outputs": [],
   "source": [
    "def scikit_example(n_samples, random_state=None):\n",
    "    X1, y1 = make_gaussian_quantiles(cov=2., n_samples=int(0.4*n_samples),\n",
    "                                     n_features=2, n_classes=2,\n",
    "                                     random_state=random_state)\n",
    "    X2, y2 = make_gaussian_quantiles(mean=(3, 3), cov=1.5,\n",
    "                                     n_samples=int(0.6*n_samples),\n",
    "                                     n_features=2, n_classes=2,\n",
    "                                     random_state=random_state)\n",
    "    return np.concatenate((X1, X2)), np.concatenate((y1, 1 - y2))"
   ]
  },
  {
   "cell_type": "code",
   "execution_count": null,
   "metadata": {
    "id": "s48R5vYpHh3r"
   },
   "outputs": [],
   "source": [
    "X, y = scikit_example(n_samples=500, random_state=random_state)\n",
    "\n",
    "X_train, X_test, y_train, y_test = \\\n",
    "    train_test_split(X, y, test_size=0.5, random_state=random_state)\n",
    "\n",
    "\n",
    "min_, max_ = np.min(X, axis=0) - 1, np.max(X, axis=0) + 1\n",
    "xx, yy = np.meshgrid(np.linspace(min_[0], max_[0], num=51),\n",
    "                     np.linspace(min_[1], max_[1], num=51))"
   ]
  },
  {
   "cell_type": "code",
   "execution_count": null,
   "metadata": {
    "id": "fdCWrCu2Hh3v"
   },
   "outputs": [],
   "source": [
    "def plot_adaboost(adaboost=None):\n",
    "    mpl.style.use('seaborn')\n",
    "    colors = ['blue', 'green' , 'red']\n",
    "\n",
    "    ax = plt.figure(figsize=(12, 8)).add_subplot(111)\n",
    "    ax.scatter(X_train[:, 0], X_train[:, 1], c=y_train, cmap=mpl.colors.ListedColormap(colors))\n",
    "\n",
    "    if adaboost:\n",
    "        prob_ = adaboost.predict_proba(np.c_[xx.ravel(), yy.ravel()])[:, 1].reshape(xx.shape)\n",
    "        ax.contourf(xx, yy, prob_, alpha=0.4, cmap=plt.cm.coolwarm)\n",
    "        ax.set_title(\"AdaBoost with %d trees\"%(adaboost.n_estimators,));"
   ]
  },
  {
   "cell_type": "code",
   "execution_count": null,
   "metadata": {
    "id": "4Xjc_fahHh3y"
   },
   "outputs": [],
   "source": [
    "plot_adaboost()"
   ]
  },
  {
   "cell_type": "code",
   "execution_count": null,
   "metadata": {
    "id": "SuJ_SeTdHh31"
   },
   "outputs": [],
   "source": [
    "abc1_ = AdaBoostClassifier(DecisionTreeClassifier(max_depth=5),\n",
    "                          n_estimators=5, random_state=random_state)\n",
    "abc1_.fit(X_train, y_train)\n",
    "\n",
    "\n",
    "plot_adaboost(abc1_)"
   ]
  },
  {
   "cell_type": "code",
   "execution_count": null,
   "metadata": {
    "id": "Us_pkn8PHh34"
   },
   "outputs": [],
   "source": [
    "abc2_ = AdaBoostClassifier(DecisionTreeClassifier(max_depth=5),\n",
    "                          n_estimators=100, random_state=random_state)\n",
    "abc2_.fit(X_train, y_train)\n",
    "\n",
    "plot_adaboost(abc2_)"
   ]
  },
  {
   "cell_type": "code",
   "execution_count": null,
   "metadata": {
    "id": "7B2VrG8UHh36"
   },
   "outputs": [],
   "source": [
    "abc3_ = AdaBoostClassifier(DecisionTreeClassifier(max_depth=5),\n",
    "                          n_estimators=1000, random_state=random_state)\n",
    "abc3_.fit(X_train, y_train)\n",
    "\n",
    "plot_adaboost(abc2_)"
   ]
  },
  {
   "cell_type": "code",
   "execution_count": null,
   "metadata": {
    "id": "DIMgBQGVHh3-"
   },
   "outputs": [],
   "source": [
    "ax = plt.figure(figsize=(12, 8)).add_subplot(111)\n",
    "for est_ in abc1_.estimators_:\n",
    "    fpr, tpr, _ = roc_curve(y_test, est_.predict_proba(X_test)[:, 1])\n",
    "    ax.plot(fpr, tpr, color=\"red\", alpha=0.5)\n",
    "\n",
    "fpr, tpr, _ = roc_curve(y_test, abc1_.predict_proba(X_test)[:, 1])\n",
    "ax.plot(fpr, tpr, color=\"black\", label=\"AdaBoost %d\"%(abc1_.n_estimators,))\n",
    "\n",
    "ax.legend(fontsize=\"xx-large\")\n",
    "ax.set_title(\"ROC curve for AdaBoost\");"
   ]
  },
  {
   "cell_type": "code",
   "execution_count": null,
   "metadata": {
    "id": "IGY_PoIHHh4B"
   },
   "outputs": [],
   "source": [
    "ax = plt.figure(figsize=(12, 8)).add_subplot(111)\n",
    "for est_ in abc2_.estimators_:\n",
    "    fpr, tpr, _ = roc_curve(y_test, est_.predict_proba(X_test)[:, 1])\n",
    "    ax.plot(fpr, tpr, color=\"red\", alpha=0.05)\n",
    "\n",
    "fpr, tpr, _ = roc_curve(y_test, abc2_.predict_proba(X_test)[:, 1])\n",
    "ax.plot(fpr, tpr, color=\"black\", label=\"AdaBoost %d\"%(abc2_.n_estimators,))\n",
    "\n",
    "ax.legend(fontsize=\"xx-large\")\n",
    "ax.set_title(\"ROC curve for AdaBoost\");"
   ]
  },
  {
   "cell_type": "code",
   "execution_count": null,
   "metadata": {
    "id": "A2oSq_6GHh4D"
   },
   "outputs": [],
   "source": [
    "ax = plt.figure(figsize=(12, 8)).add_subplot(111)\n",
    "for est_ in abc3_.estimators_:\n",
    "    fpr, tpr, _ = roc_curve(y_test, est_.predict_proba(X_test)[:, 1])\n",
    "    ax.plot(fpr, tpr, color=\"red\", alpha=0.05)\n",
    "\n",
    "fpr, tpr, _ = roc_curve(y_test, abc3_.predict_proba(X_test)[:, 1])\n",
    "ax.plot(fpr, tpr, color=\"black\", label=\"AdaBoost %d\"%(abc3_.n_estimators,))\n",
    "\n",
    "ax.legend(fontsize=\"xx-large\")\n",
    "ax.set_title(\"ROC curve for AdaBoost\");"
   ]
  },
  {
   "cell_type": "markdown",
   "metadata": {
    "id": "20EFCtZSHh4G"
   },
   "source": [
    "# Adult dataset\n"
   ]
  },
  {
   "cell_type": "markdown",
   "metadata": {
    "id": "1quX-G5jHh4H"
   },
   "source": [
    "Download the dataset. If you use Windows, you can download it manually by the link [https://github.com/amueller/advanced_training/raw/master/data/adult.csv](https://github.com/amueller/advanced_training/raw/master/data/adult.csv)"
   ]
  },
  {
   "cell_type": "code",
   "execution_count": null,
   "metadata": {
    "id": "3w5D-RlhHh4J"
   },
   "outputs": [],
   "source": [
    "!wget https://github.com/amueller/advanced_training/raw/master/data/adult.csv"
   ]
  },
  {
   "cell_type": "markdown",
   "metadata": {
    "id": "sCj0K4SUHh4M"
   },
   "source": [
    "Let's look at it. We have some information about different persons. Our target value will be the income column. Since we have the information whether the income is above or below 50K, we will solve binary classification problem."
   ]
  },
  {
   "cell_type": "code",
   "execution_count": null,
   "metadata": {
    "id": "mazsUS6KHh4N"
   },
   "outputs": [],
   "source": [
    "data = pd.read_csv('adult.csv', index_col=0)\n",
    "print(data.shape)\n",
    "data.head()"
   ]
  },
  {
   "cell_type": "code",
   "execution_count": null,
   "metadata": {
    "id": "LeC68rflHh4U"
   },
   "outputs": [],
   "source": [
    "size_before = data.shape[0]\n",
    "(data.astype(str) == ' ?').any()"
   ]
  },
  {
   "cell_type": "code",
   "execution_count": null,
   "metadata": {
    "id": "huRr6ednHh4W"
   },
   "outputs": [],
   "source": [
    "data = data[data.workclass != ' ?']\n",
    "data = data[data.occupation != ' ?']\n",
    "data = data[data['native-country'] != ' ?']\n",
    "\n",
    "# data = data[np.logical_and(data.workclass != ' ?', data.occupation != ' ?')]\n",
    "\n",
    "size_after = data.shape[0]\n",
    "\n",
    "(data.astype(str) == '?').any()"
   ]
  },
  {
   "cell_type": "code",
   "execution_count": null,
   "metadata": {
    "id": "E54bdFmpHh4Y"
   },
   "outputs": [],
   "source": [
    "data.shape"
   ]
  },
  {
   "cell_type": "markdown",
   "metadata": {
    "id": "KbzCGGfkHh4b"
   },
   "source": [
    "Let's conver our target income to binary value (0 and 1). "
   ]
  },
  {
   "cell_type": "code",
   "execution_count": null,
   "metadata": {
    "id": "TExEBhiwHh4c"
   },
   "outputs": [],
   "source": [
    "if 'income' in data.columns:\n",
    "    y = (data['income'] == ' >50K').values.astype(np.int32)\n",
    "    del data['income']\n",
    "    \n",
    "del data['native-country']\n",
    "    \n",
    "y.shape"
   ]
  },
  {
   "cell_type": "markdown",
   "metadata": {
    "id": "zkYF7_JqHh4f"
   },
   "source": [
    "We have some categorical data in our dataset. Let us use one-hot-encoding for this columns. In order to automaticalli convert the data you should use method pd.get_dummies()"
   ]
  },
  {
   "cell_type": "code",
   "execution_count": null,
   "metadata": {
    "id": "8StJ0u-JHh4g"
   },
   "outputs": [],
   "source": [
    "data = pd.get_dummies(data, columns=['workclass', 'education', 'marital-status', 'occupation', 'relationship', 'race', 'gender'])\n",
    "data.head()"
   ]
  },
  {
   "cell_type": "code",
   "execution_count": null,
   "metadata": {
    "id": "88qB6THmHh4i"
   },
   "outputs": [],
   "source": [
    "data.shape, y.shape"
   ]
  },
  {
   "cell_type": "markdown",
   "metadata": {
    "id": "mlIbk5ZXHh4l"
   },
   "source": [
    "# should we scale our data before AdaBoost?\n"
   ]
  },
  {
   "cell_type": "code",
   "execution_count": null,
   "metadata": {
    "id": "WaYNpVkrHh4l"
   },
   "outputs": [],
   "source": [
    "from sklearn.preprocessing import scale\n",
    "\n",
    "X = scale(data.astype(np.float))"
   ]
  },
  {
   "cell_type": "markdown",
   "metadata": {
    "id": "KSJq4QrZHh4o"
   },
   "source": [
    "!!! Don't change random state"
   ]
  },
  {
   "cell_type": "code",
   "execution_count": null,
   "metadata": {
    "id": "onPgbo2zHh4o"
   },
   "outputs": [],
   "source": [
    "X_train, X_test, y_train, y_test = \\\n",
    "    train_test_split(X, y, test_size=0.2, random_state=9, stratify=y)\n",
    "\n",
    "X_val, X_test, y_val, y_test = \\\n",
    "    train_test_split(X_test, y_test, test_size=0.5, random_state=9, stratify=y_test)"
   ]
  },
  {
   "cell_type": "code",
   "execution_count": null,
   "metadata": {
    "id": "KYfVD2nKHh4r"
   },
   "outputs": [],
   "source": [
    "X_train.shape, X_val.shape, X_test.shape"
   ]
  },
  {
   "cell_type": "code",
   "execution_count": null,
   "metadata": {
    "id": "Roo7khE5Hh4t"
   },
   "outputs": [],
   "source": [
    "def get_test_train_errors(_adaboost):\n",
    "    train_errors = []\n",
    "\n",
    "    for y in _adaboost.staged_predict(X_train):\n",
    "        train_errors.append(f1_score(y_train, y))\n",
    "\n",
    "    test_errors = []\n",
    "\n",
    "    for y in _adaboost.staged_predict(X_val):\n",
    "        test_errors.append(f1_score(y_val, y))\n",
    "        \n",
    "    print('F1 validation score:', f1_score(y_val, _adaboost.predict(X_val)))\n",
    "    \n",
    "    plt.figure(figsize=(12, 8))\n",
    "    plt.plot(train_errors, label='train')\n",
    "    plt.plot(test_errors, label='test')\n",
    "    plt.legend(loc='best')"
   ]
  },
  {
   "cell_type": "markdown",
   "metadata": {
    "id": "t4NhG82kHh4x"
   },
   "source": [
    "## F1 score\n",
    "\n",
    "Since we consider binary classification, it is good to use some proper measure. One of them — F1\n",
    "\n",
    "\n",
    "$$F1 = 2 * (precision * recall) / (precision + recall)$$\n",
    "\n",
    "![](https://upload.wikimedia.org/wikipedia/commons/thumb/2/26/Precisionrecall.svg/350px-Precisionrecall.svg.png)"
   ]
  },
  {
   "cell_type": "markdown",
   "metadata": {
    "id": "zdJHLa3rHh4y"
   },
   "source": [
    "Let's train AdaBoost with a lot of small trees"
   ]
  },
  {
   "cell_type": "code",
   "execution_count": null,
   "metadata": {
    "id": "rx_35NuqHh4z"
   },
   "outputs": [],
   "source": [
    "adaboost = AdaBoostClassifier(base_estimator=DecisionTreeClassifier(max_depth=1), n_estimators=1000)\n",
    "adaboost.fit(X_train, y_train)\n",
    "\n",
    "get_test_train_errors(adaboost)"
   ]
  },
  {
   "cell_type": "markdown",
   "metadata": {
    "id": "ZD6rVFv0Hh42"
   },
   "source": [
    "Now, increase the depth of trees"
   ]
  },
  {
   "cell_type": "code",
   "execution_count": null,
   "metadata": {
    "id": "sxWyiy1VHh43"
   },
   "outputs": [],
   "source": [
    "adaboost = AdaBoostClassifier(base_estimator=DecisionTreeClassifier(max_depth=5), n_estimators=1000)\n",
    "adaboost.fit(X_train, y_train)\n",
    "\n",
    "get_test_train_errors(adaboost)"
   ]
  },
  {
   "cell_type": "markdown",
   "metadata": {
    "id": "2m8ZPeeGHh46"
   },
   "source": [
    "Leave trees depth as 5, decrease n_estimators to 200"
   ]
  },
  {
   "cell_type": "code",
   "execution_count": null,
   "metadata": {
    "id": "vt4XLtgeHh46"
   },
   "outputs": [],
   "source": [
    "adaboost = AdaBoostClassifier(base_estimator=DecisionTreeClassifier(max_depth=5), n_estimators=200)\n",
    "adaboost.fit(X_train, y_train)\n",
    "\n",
    "get_test_train_errors(adaboost)"
   ]
  },
  {
   "cell_type": "markdown",
   "metadata": {
    "id": "0HZehFD4Hh49"
   },
   "source": [
    "## Hello, overfitting!\n",
    "\n",
    "![](https://upload.wikimedia.org/wikipedia/commons/thumb/1/19/Overfitting.svg/300px-Overfitting.svg.png)"
   ]
  },
  {
   "cell_type": "markdown",
   "metadata": {
    "id": "A5jwLJEpHh4-"
   },
   "source": [
    "# Early stopping\n",
    "\n",
    "Ok, we understood, that we don't need to much trees: we overfit. But if we take not enough trees, we will overfit. Here comes the regularization.\n",
    "\n",
    "And one of the best regularization methods (best in practice), that is applied to ensembles (and to NN) is early stopping.\n",
    "\n",
    "## The idea behind it is simple: if our validation loss didn't increase last 'n_tolerance' steps, then we stop adding new trees.\n",
    "\n",
    "![earlystopping.png](data:image/png;base64,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)\n"
   ]
  },
  {
   "cell_type": "markdown",
   "metadata": {
    "id": "-qdApGmTHh4_"
   },
   "source": [
    "Let's implement Early Stopping for adaboost algorithm. We will extend the class AdaBoostClassifier. In order to implement the Early Stopping, you should understand, that it is easier to cut the final algorithm (select only a number of first trees) instead of training it each time."
   ]
  },
  {
   "cell_type": "code",
   "execution_count": null,
   "metadata": {
    "id": "Z5VVNZ14Hh4_"
   },
   "outputs": [],
   "source": [
    "class EarlyStoppingAdaBoost(AdaBoostClassifier):\n",
    "    def __init__(self, n_tolerance, score_func, *args, **kwargs):\n",
    "        super().__init__(*args, **kwargs)\n",
    "        self.n_tolerance = n_tolerance\n",
    "        self.score_func = score_func\n",
    "        \n",
    "    def fit(self, X_train, y_train, X_val, y_val):\n",
    "        # train big AdaBoost\n",
    "        super().fit(X_train, y_train)\n",
    "\n",
    "        val_scores = [] # validation scores of subsets of trees\n",
    "        wait = 1 # how much iterarations we have already waited for the increase of the score\n",
    "        n_trees = 0 # number of trees to take after early stopping\n",
    "        \n",
    "        \n",
    "        for y_pred in self.staged_predict(X_val): \n",
    "            # stage predict allows to predict using only subset of trees \n",
    "            # i.e. on the first iteration with 1 tree, on the second with 2 trees\n",
    "\n",
    "            # Now you have to write an early stopping algorithm\n",
    "            ######################\n",
    "            # YOUR CODE HERE!\n",
    "            \n",
    "\n",
    "            # YOUR CODE HERE!\n",
    "            ######################\n",
    "                    \n",
    "        self.estimators_ = self.estimators_[:n_trees]\n",
    "        \n",
    "        return self"
   ]
  },
  {
   "cell_type": "code",
   "execution_count": null,
   "metadata": {
    "id": "a_nsmLkiHh5C"
   },
   "outputs": [],
   "source": [
    "adaboost = EarlyStoppingAdaBoost(base_estimator=DecisionTreeClassifier(max_depth=5),\n",
    "                                 n_estimators=200,\n",
    "                                 n_tolerance=10, score_func=f1_score)\n",
    "adaboost.fit(X_train, y_train, X_val, y_val)\n",
    "\n",
    "get_test_train_errors(adaboost)"
   ]
  },
  {
   "cell_type": "code",
   "execution_count": null,
   "metadata": {
    "id": "n6_qaMzIHh5F"
   },
   "outputs": [],
   "source": [
    "adaboost = EarlyStoppingAdaBoost(base_estimator=DecisionTreeClassifier(max_depth=1),\n",
    "                                 n_estimators=1000,\n",
    "                                 n_tolerance=10, score_func=f1_score)\n",
    "adaboost.fit(X_train, y_train, X_val, y_val)\n",
    "\n",
    "get_test_train_errors(adaboost)"
   ]
  },
  {
   "cell_type": "markdown",
   "metadata": {
    "id": "mMpuoifLHh5H"
   },
   "source": [
    "# Feature Importance: how?"
   ]
  },
  {
   "cell_type": "code",
   "execution_count": null,
   "metadata": {
    "id": "r6Kq5lvyHh5J"
   },
   "outputs": [],
   "source": [
    "importances = adaboost.feature_importances_\n",
    "std = np.std([tree.feature_importances_ for tree in adaboost.estimators_],\n",
    "             axis=0)\n",
    "indices = np.argsort(importances)[::-1]\n",
    "\n",
    "print(\"Feature ranking:\")\n",
    "\n",
    "for f in range(X.shape[1]):\n",
    "    print(\"%d. feature %s (%f)\" % (f + 1, data.columns[f], importances[indices[f]]))"
   ]
  },
  {
   "cell_type": "markdown",
   "metadata": {
    "id": "D1-NwEv5Hh5L"
   },
   "source": [
    "# Stacking: Voting\n",
    "\n",
    "Imagine you have two powerful algorithms, such as SVM and AdaBoost. You found the best hyperparameters for each of the algorithms. Usually in practice you can increase the prediction quality by combining two algorithms using stacking.\n",
    "\n",
    "One of the way to perform stacking is voting. If you have two algorithms $clf_1(x)$ and $clf_2(x)$, then the prediction will be \n",
    "\n",
    "$$result(x) = clf_1(x) * \\alpha + clf_2(x) * (1 - \\alpha),$$\n",
    "\n",
    "where $\\alpha \\in [0, 1]$"
   ]
  },
  {
   "cell_type": "code",
   "execution_count": null,
   "metadata": {
    "id": "pQUHr0giHh5M"
   },
   "outputs": [],
   "source": [
    "from sklearn.svm import SVC\n",
    "from sklearn.neighbors import KNeighborsClassifier\n",
    "from sklearn.ensemble import RandomForestClassifier\n",
    "from sklearn.ensemble import VotingClassifier\n",
    "from sklearn.model_selection import cross_val_score"
   ]
  },
  {
   "cell_type": "code",
   "execution_count": null,
   "metadata": {
    "id": "fMufwDrGHh5O"
   },
   "outputs": [],
   "source": [
    "clf1 = AdaBoostClassifier(base_estimator=DecisionTreeClassifier(max_depth=5),\n",
    "                                 n_estimators=20)\n",
    "clf2 = AdaBoostClassifier(base_estimator=DecisionTreeClassifier(max_depth=3),\n",
    "                                 n_estimators=50)\n",
    "\n",
    "\n",
    "mix_clf_scores = []\n",
    "for alpha in np.linspace(0., 1., 10):\n",
    "    clf = VotingClassifier([('clf1', clf1), ('clf2', clf2)], voting='soft', weights=[alpha, 1-alpha])\n",
    "    clf.fit(X_train, y_train)\n",
    "    \n",
    "    f1 = f1_score(y_val, clf.predict(X_val))\n",
    "    \n",
    "    mix_clf_scores.append(f1)\n"
   ]
  },
  {
   "cell_type": "code",
   "execution_count": null,
   "metadata": {
    "id": "BxGe1_9AHh5R"
   },
   "outputs": [],
   "source": [
    "plt.plot(np.linspace(0., 1., 10), mix_clf_scores)\n",
    "plt.xlabel('alpha')\n",
    "plt.ylabel('f1_score')\n",
    "plt.title('VotingClassifier scores depending from weights')"
   ]
  },
  {
   "cell_type": "code",
   "execution_count": null,
   "metadata": {
    "id": "rqq2YlQsHh5V"
   },
   "outputs": [],
   "source": []
  },
  {
   "cell_type": "markdown",
   "metadata": {
    "id": "UNUqLGCRHh5X"
   },
   "source": [
    "# Stacking: Meta-learner\n",
    "\n",
    "![](https://blogs.sas.com/content/subconsciousmusings/files/2017/05/modelstacking.png)\n",
    "\n",
    "Another possible solution for combination of several algorithms: learning some meta algorithm on the top of some base algorithms. For example, you have trained such algorithms, as SVM, Random Forest and Adaboost on your dataset. Each of these algorithms is able to return some scores, that you can use as features of the input objects. After it you can train some easy linear model (linear regression, logistic regression) on this features (which are the output of base algorithms).\n",
    "\n",
    "## What we can use as the information from the base algorithms?\n",
    "\n",
    "![](https://i.imgur.com/OrkSTqG.jpg)\n",
    "\n",
    "If you would like to construct such kind of stacking, you should be aware of overfitting. If you use the same train set for both base learners and meta learners, you will overfit.\n",
    "\n",
    "\n",
    "\n",
    "So, your task for now is to implement stacking. You can choose what to do yourself:\n",
    "\n",
    "* Use K-fold stacking\n",
    "* Split your data into train and calibration sets\n",
    "* Use train set for both training and calibration, and then obtain overfitting\n",
    "\n"
   ]
  },
  {
   "cell_type": "code",
   "execution_count": null,
   "metadata": {
    "id": "f1Uh_5JmHh5Y"
   },
   "outputs": [],
   "source": [
    "from sklearn.linear_model import LogisticRegression\n",
    "from sklearn.model_selection import StratifiedKFold, cross_val_predict\n",
    "from sklearn.base import clone\n",
    "\n",
    "class MetaLogisticRegression(LogisticRegression):\n",
    "    def __init__(self, base_learners, penalty='l2', dual=False, tol=0.0001,\n",
    "                 C=1.0, fit_intercept=True, intercept_scaling=1,\n",
    "                 class_weight=None, random_state=None, solver='liblinear',\n",
    "                 max_iter=100, multi_class='ovr', verbose=0,\n",
    "                 warm_start=False, n_jobs=None):\n",
    "        super().__init__(penalty=penalty, dual=dual, tol=tol, C=C, fit_intercept=fit_intercept,\n",
    "                         intercept_scaling=intercept_scaling, class_weight=class_weight,\n",
    "                         random_state=random_state, solver=solver, max_iter=max_iter,\n",
    "                         multi_class=multi_class, verbose=verbose, warm_start=warm_start, n_jobs=n_jobs)\n",
    "        self.base_learners = base_learners\n",
    "        \n",
    "        \n",
    "    def fit_predict_base_learners(self, _X, _y):\n",
    "        # write a function, that will feat each base classiffier and\n",
    "        # return predictions of base learners for the train set (M1, M2 in algorithm)\n",
    "        # HINT: from sklearn.model_selection import cross_val_predict\n",
    "        ######################\n",
    "        # YOUR CODE HERE!      \n",
    "\n",
    "\n",
    "        # YOUR CODE HERE!\n",
    "        ######################\n",
    "        \n",
    "    def fit_base_learners_full(self, _X, _y):\n",
    "        # write a function to fit a base learners on the whole(!) train set\n",
    "        ######################\n",
    "        # YOUR CODE HERE!\n",
    "\n",
    "\n",
    "        # YOUR CODE HERE!\n",
    "        ######################\n",
    "        \n",
    "    def get_base_predictions(self, _X):\n",
    "        # write a function, get the predictions of each base algorithm and return it\n",
    "        # in the form of matrix of shape [X.shape[0], n_base_algorithms]\n",
    "        ######################\n",
    "        # YOUR CODE HERE!\n",
    "\n",
    "\n",
    "        # YOUR CODE HERE!\n",
    "        ######################\n",
    "        \n",
    "    def fit(self, _X, _y):\n",
    "        # K-fold fitting of base learners\n",
    "        base_predictions = self.fit_predict_base_learners(_X, _y)\n",
    "        \n",
    "        # learn meta Logistic Regression\n",
    "        super().fit(base_predictions, _y)\n",
    "        \n",
    "        # fitting for test predictions\n",
    "        self.fit_base_learners_full(_X, _y)        \n",
    "        return self\n",
    "    \n",
    "    def predict(self, _X):\n",
    "        base_predictions = self.get_base_predictions(_X)\n",
    "        return super().predict(base_predictions)"
   ]
  },
  {
   "cell_type": "code",
   "execution_count": null,
   "metadata": {
    "id": "QJOV_FjaHh5a"
   },
   "outputs": [],
   "source": [
    "clf1 = AdaBoostClassifier(base_estimator=DecisionTreeClassifier(max_depth=5),\n",
    "                                 n_estimators=20)\n",
    "clf2 = AdaBoostClassifier(base_estimator=DecisionTreeClassifier(max_depth=3),\n",
    "                                 n_estimators=50)\n",
    "\n",
    "meta = MetaLogisticRegression(base_learners=[clf1, clf2])\n",
    "meta.fit(X_train, y_train)"
   ]
  },
  {
   "cell_type": "code",
   "execution_count": null,
   "metadata": {
    "id": "VbKkxSYGHh5i"
   },
   "outputs": [],
   "source": [
    "f1_score(y_val, meta.predict(X_val))"
   ]
  },
  {
   "cell_type": "markdown",
   "metadata": {
    "id": "2W6tMfiAHh5k"
   },
   "source": [
    "# Challenge\n",
    "\n",
    "Now let's check your imagination in designing ML algorithms. You task is to construct an algorithm in order to achive the highest f1 score on the dataset we considered today.\n",
    "\n",
    "You have X_train, X_val, X_test. You can train/validate on both X_train and X_val on your choice. X_test — this is only for test prediction.\n",
    "\n",
    "Key ingredients to success in Kaggle:\n",
    "* Boosting\n",
    "* Stacking\n",
    "* Feature Engineering (removing non-important features, constructing new features)\n",
    "* Data preprocessing (outliers)\n",
    "\n",
    "You may start with stacking of several algorithms of different nature."
   ]
  },
  {
   "cell_type": "code",
   "execution_count": null,
   "metadata": {
    "id": "V3qMFAViHh5m"
   },
   "outputs": [],
   "source": [
    "def get_test_score(y_pred):\n",
    "    return f1_score(y_pred, y_test)"
   ]
  },
  {
   "cell_type": "code",
   "execution_count": null,
   "metadata": {
    "id": "y4wD-ubiHh5p"
   },
   "outputs": [],
   "source": []
  },
  {
   "cell_type": "code",
   "execution_count": null,
   "metadata": {
    "id": "mwT88vZSHh5r"
   },
   "outputs": [],
   "source": []
  },
  {
   "cell_type": "code",
   "execution_count": null,
   "metadata": {
    "id": "z4aGtFZwHh5v"
   },
   "outputs": [],
   "source": []
  },
  {
   "cell_type": "code",
   "execution_count": null,
   "metadata": {
    "id": "XCoZM5gTHh5x"
   },
   "outputs": [],
   "source": []
  }
 ],
 "metadata": {
  "colab": {
   "collapsed_sections": [
    "0HZehFD4Hh49"
   ],
   "name": "Adaboost2022_Seminar.ipynb",
   "provenance": []
  },
  "kernelspec": {
   "display_name": "Python 3",
   "language": "python",
   "name": "python3"
  },
  "language_info": {
   "codemirror_mode": {
    "name": "ipython",
    "version": 3
   },
   "file_extension": ".py",
   "mimetype": "text/x-python",
   "name": "python",
   "nbconvert_exporter": "python",
   "pygments_lexer": "ipython3",
   "version": "3.7.9"
  }
 },
 "nbformat": 4,
 "nbformat_minor": 1
}
