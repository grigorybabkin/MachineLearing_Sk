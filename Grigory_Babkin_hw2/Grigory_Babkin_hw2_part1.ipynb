{
 "cells": [
  {
   "cell_type": "markdown",
   "id": "approved-psychology",
   "metadata": {
    "id": "approved-psychology"
   },
   "source": [
    "# Home Assignment No. 2 - part one\n",
    "\n",
    "To solve this task, you will write a lot of code to try several machine learning methods for classification and regression.\n",
    "* You are **HIGHLY RECOMMENDED** to read relevant documentation, e.g. for [python](https://docs.python.org/3/), [numpy](https://docs.scipy.org/doc/numpy/reference/), [matlpotlib](https://matplotlib.org/) and [sklearn](https://scikit-learn.org/stable/). Also remember that seminars, lecture slides, [Google](http://google.com) and [StackOverflow](https://stackoverflow.com/) are your close friends during this course (and, probably, whole life?).\n",
    "\n",
    "* If you want an easy life, you have to use **BUILT-IN METHODS** of `sklearn` library instead of writing tons of your own code. There exists a class/method for almost everything you can imagine (related to this homework).\n",
    "\n",
    "* You have to write **CODE** directly inside specified places marked by comments: **BEGIN/END Solution**. Do not create new cells.\n",
    "\n",
    "* In some problems you are asked to provide a short discussion of the results. For that find the specific place marked via **Your text answer: \\<write your answer\\>**.\n",
    "\n",
    "* For every separate problem or subproblem (if specified) you can get only 0 points or maximal points for this problem. There are **NO INTERMEDIATE scores**. So make sure that you did everything required in the task.\n",
    "\n",
    "* Your **SOLUTION** notebook **MUST BE REPRODUCIBLE**, i.e., if the reviewer decides to restart the notebook and run all cells, after all the computation he will obtain exactly the same solution (with all the corresponding plots) as in your uploaded notebook. For this purpose, we suggest fixing random `seed` or (better) define `random_state=` inside every algorithm that uses some pseudorandomness.\n",
    "\n",
    "* Your code must be clear to the reviewer. For this purpose, try to include necessary comments inside the code. But remember: **GOOD CODE MUST BE SELF-EXPLANATORY** without any additional comments.\n",
    "\n",
    "* Many `sklearn` algorithms support multithreading (Ensemble Methods, Cross-Validation, etc.). Check if the particular algorithm has `n_jobs` parameters and set it to `-1` to use all the cores.\n"
   ]
  },
  {
   "cell_type": "code",
   "execution_count": 1,
   "id": "cooperative-spokesman",
   "metadata": {
    "id": "cooperative-spokesman"
   },
   "outputs": [],
   "source": [
    "import numpy as np\n",
    "import sklearn\n",
    "from sklearn.model_selection import train_test_split\n",
    "import pandas as pd\n",
    "import matplotlib.pyplot as plt\n",
    "from sklearn.model_selection import cross_val_score\n",
    "%matplotlib inline"
   ]
  },
  {
   "cell_type": "code",
   "execution_count": 2,
   "id": "noted-bridal",
   "metadata": {
    "id": "noted-bridal"
   },
   "outputs": [],
   "source": [
    "import warnings\n",
    "warnings.filterwarnings(\"ignore\")\n",
    "\n",
    "from sklearn.ensemble import RandomForestRegressor, RandomForestClassifier\n",
    "from sklearn.linear_model import LinearRegression, Ridge, LogisticRegression\n",
    "from sklearn.tree import DecisionTreeRegressor, DecisionTreeClassifier\n",
    "from sklearn.preprocessing import StandardScaler\n",
    "from sklearn.metrics import mean_squared_log_error as msle\n",
    "from sklearn.metrics import accuracy_score\n",
    "from sklearn.neighbors import KNeighborsClassifier\n",
    "from sklearn.multiclass import OneVsRestClassifier, OneVsOneClassifier\n",
    "import time\n",
    "from IPython.display import display\n",
    "from sklearn.model_selection import cross_val_predict\n",
    "from xgboost import XGBClassifier\n",
    "from sklearn.svm import SVC\n",
    "from sklearn.naive_bayes import GaussianNB"
   ]
  },
  {
   "cell_type": "markdown",
   "id": "guilty-contamination",
   "metadata": {
    "id": "guilty-contamination"
   },
   "source": [
    "## Task 1. Model and feature selection problem (3 points)\n",
    "\n",
    "Your goal in this task is to predict the price (```price_doc```) given some characteristics of a house. In order to do that, you will demonstrate your abilities in data preprocessing, finding feature importances, applying different ML models."
   ]
  },
  {
   "cell_type": "markdown",
   "id": "friendly-review",
   "metadata": {
    "id": "friendly-review"
   },
   "source": [
    "### Subproblem 1.1. Data preprocessing and feauture importances (1 point)\n",
    "\n",
    "The goal of this subproblem is to prepare the data for further usage. Complete all of the following subtasks:"
   ]
  },
  {
   "cell_type": "markdown",
   "id": "rational-reggae",
   "metadata": {
    "id": "rational-reggae"
   },
   "source": [
    "**1.1.1) load the dataset**"
   ]
  },
  {
   "cell_type": "code",
   "execution_count": 3,
   "id": "nutritional-phoenix",
   "metadata": {
    "id": "nutritional-phoenix"
   },
   "outputs": [],
   "source": [
    "### BEGIN Solution (do not delete this comment)\n",
    "df = pd.read_csv('data_fs.csv')\n",
    "### END Solution (do not delete this comment)"
   ]
  },
  {
   "cell_type": "markdown",
   "id": "objective-working",
   "metadata": {
    "id": "objective-working"
   },
   "source": [
    "**1.1.2) preprocess the dataset by dropping the ```timestamp``` feature, filling ```NaN```s with 0, converting the categorical variables into dummy variables**"
   ]
  },
  {
   "cell_type": "code",
   "execution_count": 4,
   "id": "another-keyboard",
   "metadata": {
    "id": "another-keyboard"
   },
   "outputs": [],
   "source": [
    "### BEGIN Solution (do not delete this comment)\n",
    "df = df.drop('timestamp', axis = 1)\n",
    "df = df.fillna(0)\n",
    "y = df['price_doc']\n",
    "X = df.drop('price_doc', axis = 1)\n",
    "X = pd.get_dummies(X)\n",
    "### END Solution (do not delete this comment)"
   ]
  },
  {
   "cell_type": "markdown",
   "id": "dress-shanghai",
   "metadata": {
    "id": "dress-shanghai"
   },
   "source": [
    "**1.1.3) define ```x_train```, ```x_test```, ```y_train```, ```y_test```. The train-test split should be 70:30**\n"
   ]
  },
  {
   "cell_type": "code",
   "execution_count": 5,
   "id": "outdoor-runner",
   "metadata": {
    "id": "outdoor-runner"
   },
   "outputs": [],
   "source": [
    "### BEGIN Solution (do not delete this comment)\n",
    "X_train, X_test, y_train, y_test = train_test_split(X, y, test_size = 0.3, random_state = 28)\n",
    "### END Solution (do not delete this comment)"
   ]
  },
  {
   "cell_type": "markdown",
   "id": "engaging-ready",
   "metadata": {
    "id": "engaging-ready"
   },
   "source": [
    "\n",
    "**1.1.4) plot the histogram of y values. Note that the mean of these values is very high and the distribution of the values is far from normal. Create ```y_train_log``` and ```y_test_log``` by applying $log_{y}$. Now plot the new histogram of the obtained values. You should use these log values for the next subtasks.**   "
   ]
  },
  {
   "cell_type": "code",
   "execution_count": 6,
   "id": "inclusive-outreach",
   "metadata": {
    "colab": {
     "base_uri": "https://localhost:8080/",
     "height": 575
    },
    "id": "inclusive-outreach",
    "outputId": "6a70e6b1-b183-470a-a694-52e230c3da6b"
   },
   "outputs": [
    {
     "data": {
      "image/png": "[encoded data removed]",
      "text/plain": [
       "<Figure size 360x720 with 2 Axes>"
      ]
     },
     "metadata": {
      "needs_background": "light"
     },
     "output_type": "display_data"
    }
   ],
   "source": [
    "### BEGIN Solution (do not delete this comment)\n",
    "y_train_log = np.log(y_train)\n",
    "y_test_log = np.log(y_test)\n",
    "\n",
    "fig, ax = plt.subplots(ncols = 1, nrows = 2, figsize = (5, 10))\n",
    "ax[0].hist(y_train, bins = 100)\n",
    "ax[1].hist(y_train_log, bins = 100)\n",
    "plt.show()\n",
    "### END Solution (do not delete this comment)"
   ]
  },
  {
   "cell_type": "markdown",
   "id": "noticed-drunk",
   "metadata": {
    "id": "noticed-drunk"
   },
   "source": [
    "**1.1.5) print the number of features in the created ```x_train``` and ```x_test``` datasets. Answer the question: do you think all of these features are relevant for the adequate price prediction?**\n"
   ]
  },
  {
   "cell_type": "code",
   "execution_count": 7,
   "id": "strategic-spending",
   "metadata": {
    "colab": {
     "base_uri": "https://localhost:8080/"
    },
    "id": "strategic-spending",
    "outputId": "60227791-3f62-4d31-cbcd-a5a8aada6763"
   },
   "outputs": [
    {
     "name": "stdout",
     "output_type": "stream",
     "text": [
      "Number of features in x_train: 21329\n",
      "Number of features in x_test: 9142\n"
     ]
    }
   ],
   "source": [
    "### BEGIN Solution (do not delete this comment)\n",
    "print(\"Number of features in x_train:\", X_train.shape[0])\n",
    "print(\"Number of features in x_test:\", X_test.shape[0])\n",
    "### END Solution (do not delete this comment)"
   ]
  },
  {
   "cell_type": "markdown",
   "id": "restricted-anchor",
   "metadata": {
    "id": "restricted-anchor"
   },
   "source": [
    "**Your text answer (do not delete this comment)**:\n",
    "\n",
    "I think that a dataset contains many features, not all of which are equally valuable for predicting price."
   ]
  },
  {
   "cell_type": "markdown",
   "id": "endangered-mineral",
   "metadata": {
    "id": "endangered-mineral"
   },
   "source": [
    "**1.1.6) use random forest to find the importance of the features. Plot the histogram of the importances.**"
   ]
  },
  {
   "cell_type": "code",
   "execution_count": 9,
   "id": "residential-tongue",
   "metadata": {
    "colab": {
     "base_uri": "https://localhost:8080/",
     "height": 282
    },
    "id": "residential-tongue",
    "outputId": "3ed70854-fddc-439f-eef5-542e3de192e2"
   },
   "outputs": [
    {
     "data": {
      "image/png": "[encoded data removed]",
      "text/plain": [
       "<Figure size 576x360 with 1 Axes>"
      ]
     },
     "metadata": {
      "needs_background": "light"
     },
     "output_type": "display_data"
    }
   ],
   "source": [
    "### BEGIN Solution (do not delete this comment)\n",
    "rfr = RandomForestRegressor(random_state = 0, n_jobs=-1)\n",
    "rfr.fit(X_train, y_train_log)\n",
    "plt.figure(figsize=(8,5))\n",
    "plt.hist(rfr.feature_importances_, bins=100)\n",
    "plt.show()\n",
    "### END Solution (do not delete this comment)"
   ]
  },
  {
   "cell_type": "markdown",
   "id": "ethical-firmware",
   "metadata": {
    "id": "ethical-firmware"
   },
   "source": [
    "**1.1.7) print the names of the 20 most important features**"
   ]
  },
  {
   "cell_type": "code",
   "execution_count": 10,
   "id": "amazing-marriage",
   "metadata": {
    "colab": {
     "base_uri": "https://localhost:8080/"
    },
    "id": "amazing-marriage",
    "outputId": "53ab5987-aa41-43f6-816e-37580d1cff79"
   },
   "outputs": [
    {
     "name": "stdout",
     "output_type": "stream",
     "text": [
      "full_sq\n",
      "cafe_count_2000\n",
      "sport_count_3000\n",
      "cafe_count_3000\n",
      "num_room\n",
      "exhibition_km\n",
      "micex_cbi_tr\n",
      "cafe_count_5000\n",
      "metro_km_avto\n",
      "cafe_count_5000_price_2500\n",
      "ttk_km\n",
      "kindergarten_km\n",
      "floor\n",
      "public_healthcare_km\n",
      "eurrub\n",
      "micex\n",
      "catering_km\n",
      "brent\n",
      "additional_education_km\n",
      "trc_count_3000\n"
     ]
    }
   ],
   "source": [
    "### BEGIN Solution (do not delete this comment)\n",
    "feature_importance_n_name = list(zip(list(rfr.feature_importances_),list(X_train.columns)))\n",
    "MIF_20 = sorted(feature_importance_n_name, reverse = True)[:20]\n",
    "for value, key in MIF_20 :\n",
    "    print(key)\n",
    "### END Solution (do not delete this comment)"
   ]
  },
  {
   "cell_type": "markdown",
   "id": "0346434e",
   "metadata": {},
   "source": [
    "<br>"
   ]
  },
  {
   "cell_type": "markdown",
   "id": "little-toddler",
   "metadata": {
    "id": "little-toddler"
   },
   "source": [
    "### Subproblem 1.2. Training models on the most important features (1 point)"
   ]
  },
  {
   "cell_type": "markdown",
   "id": "vietnamese-patrick",
   "metadata": {
    "id": "vietnamese-patrick"
   },
   "source": [
    "In this subproblem, you will train several ML models on the found 20 most important features: train **Linear Regression**,  **Ridge regression**, **Random forest**,  **DecisionTree** and evaluate their performance using the Root Mean Squared Logarithmic Error (RMSLE) on both train/test sets. \n",
    "\n",
    "You will have to repeat the same actions in the next tasks too, so we recommend to implement\n",
    "a dedicated function for comparisons, which\n",
    "1. on input takes a training dataset `(X_train, y_train)` and a test sample `(X_test, y_test)`;\n",
    "2. it trains **all of the listed models** on the `(X_train, y_train)` sample;\n",
    "3. it computes and returns a table with the RMSLE score of each fitted model on the train and test datasets."
   ]
  },
  {
   "cell_type": "markdown",
   "id": "stupid-principle",
   "metadata": {
    "id": "stupid-principle"
   },
   "source": [
    "**1.2.1) Implement the function described above**"
   ]
  },
  {
   "cell_type": "code",
   "execution_count": 11,
   "id": "paperback-uniform",
   "metadata": {
    "id": "paperback-uniform"
   },
   "outputs": [],
   "source": [
    "### BEGIN Solution (do not delete this comment)\n",
    "def RMSLE_comparator(X_train, y_train, X_test, y_test):\n",
    "    LinearReg = LinearRegression()\n",
    "    RidgeReg = Ridge(random_state = 0)\n",
    "    RandomForestReg = RandomForestRegressor(random_state = 0)\n",
    "    DecisionTreeReg = DecisionTreeRegressor(random_state = 0)\n",
    "    scaler = StandardScaler()\n",
    "    \n",
    "    train_error = []\n",
    "    test_error = []\n",
    "    models = {\"Linear Regression\" : LinearReg,\n",
    "              \"Ridge\" : RidgeReg,\n",
    "              \"Dtree\" : DecisionTreeReg,\n",
    "              \"RFR\" : RandomForestReg\n",
    "             }\n",
    "    \n",
    "    X_train_scaled = scaler.fit_transform(X_train)\n",
    "    X_test_scaled = scaler.transform(X_test)\n",
    "     \n",
    "    for model in models:\n",
    "        reg = models[model]\n",
    "        reg.fit(X_train_scaled, y_train)\n",
    "        train_error.append(msle(y_train_log, reg.predict(X_train_scaled)))\n",
    "        test_error.append(msle(y_test_log, reg.predict(X_test_scaled)))\n",
    "    \n",
    "    error_table = pd.DataFrame({\"Methods\" : models.keys(),\n",
    "                                \"Train error\" : train_error,\n",
    "                                \"Test error\" : test_error\n",
    "                               })\n",
    "    \n",
    "    return error_table\n",
    "### END Solution (do not delete this comment)"
   ]
  },
  {
   "cell_type": "markdown",
   "id": "demographic-honolulu",
   "metadata": {
    "id": "demographic-honolulu"
   },
   "source": [
    "**1.2.2) Apply the implemented function to our dataset (use only the 20 most important features)**"
   ]
  },
  {
   "cell_type": "code",
   "execution_count": 12,
   "id": "loved-bedroom",
   "metadata": {
    "colab": {
     "base_uri": "https://localhost:8080/",
     "height": 221
    },
    "id": "loved-bedroom",
    "outputId": "c8bb94f8-18f2-4395-ec9c-79178786015c",
    "scrolled": false
   },
   "outputs": [
    {
     "data": {
      "text/html": [
       "<div>\n",
       "<style scoped>\n",
       "    .dataframe tbody tr th:only-of-type {\n",
       "        vertical-align: middle;\n",
       "    }\n",
       "\n",
       "    .dataframe tbody tr th {\n",
       "        vertical-align: top;\n",
       "    }\n",
       "\n",
       "    .dataframe thead th {\n",
       "        text-align: right;\n",
       "    }\n",
       "</style>\n",
       "<table border=\"1\" class=\"dataframe\">\n",
       "  <thead>\n",
       "    <tr style=\"text-align: right;\">\n",
       "      <th></th>\n",
       "      <th>Methods</th>\n",
       "      <th>Train error</th>\n",
       "      <th>Test error</th>\n",
       "    </tr>\n",
       "  </thead>\n",
       "  <tbody>\n",
       "    <tr>\n",
       "      <th>0</th>\n",
       "      <td>Linear Regression</td>\n",
       "      <td>1.056696e-03</td>\n",
       "      <td>0.001017</td>\n",
       "    </tr>\n",
       "    <tr>\n",
       "      <th>1</th>\n",
       "      <td>Ridge</td>\n",
       "      <td>1.056691e-03</td>\n",
       "      <td>0.001017</td>\n",
       "    </tr>\n",
       "    <tr>\n",
       "      <th>2</th>\n",
       "      <td>Dtree</td>\n",
       "      <td>1.804454e-09</td>\n",
       "      <td>0.001700</td>\n",
       "    </tr>\n",
       "    <tr>\n",
       "      <th>3</th>\n",
       "      <td>RFR</td>\n",
       "      <td>1.239075e-04</td>\n",
       "      <td>0.000863</td>\n",
       "    </tr>\n",
       "  </tbody>\n",
       "</table>\n",
       "</div>"
      ],
      "text/plain": [
       "             Methods   Train error  Test error\n",
       "0  Linear Regression  1.056696e-03    0.001017\n",
       "1              Ridge  1.056691e-03    0.001017\n",
       "2              Dtree  1.804454e-09    0.001700\n",
       "3                RFR  1.239075e-04    0.000863"
      ]
     },
     "execution_count": 12,
     "metadata": {},
     "output_type": "execute_result"
    }
   ],
   "source": [
    "### BEGIN Solution\n",
    "RMSLE_comparator(X_train[np.array(list(np.array(MIF_20)[:,1]))], y_train_log, \n",
    "                 X_test[np.array(list(np.array(MIF_20)[:,1]))], y_test_log)\n",
    "### END Solution"
   ]
  },
  {
   "cell_type": "markdown",
   "id": "6lSOGA4-7RSx",
   "metadata": {
    "id": "6lSOGA4-7RSx"
   },
   "source": [
    "<br>"
   ]
  },
  {
   "cell_type": "markdown",
   "id": "stock-jewel",
   "metadata": {
    "id": "stock-jewel"
   },
   "source": [
    "### Subproblem 1.3. Forward-backward methods (1 point)\n",
    "In the subproblems above, we have relied on the feature importances found by the random forest method. The main goal of this subproblem is to find feature importances by applying the forward-backward methods: the main idea is to add or remove features and compute how this removal influences the value of the loss function or some other criteria.\n",
    "\n",
    "The decision about adding or deleting a feature may be made based on:\n",
    "\n",
    "- AIC\n",
    "- BIC\n",
    "- validation error\n",
    "- Mallows $C_p$\n",
    "- sklearn's `estimator.score()`"
   ]
  },
  {
   "cell_type": "markdown",
   "id": "southern-closer",
   "metadata": {
    "id": "southern-closer"
   },
   "source": [
    "In subtasks, 1.3.1 - 1.3.3, implement the following greedy feature selection algorithm with early stopping using the mean of the RMSLE scores achieved on the 3-fold cross-validation. Please bear in mind that **the lower** RMSLE (`mean_squared_log_error`) is, **the higher the model \"quality\" is** and look up `cross_val_score(...)` peculiarities in [scikit's manual](https://scikit-learn.org/stable/documentation.html) for more information.\n",
    "\n",
    "```python\n",
    "# Initialize with an empty list of features.\n",
    "list_of_best_features = []\n",
    "\n",
    "while round < n_rounds:\n",
    "    round = round + 1\n",
    "    \n",
    "    if no_more_features:\n",
    "        # end loop\n",
    "\n",
    "    # Iterate over currently *unused* features and use $k$-fold \n",
    "    # . `cross_val_score` to measure model \"quality\".\n",
    "    compute_quality_with_each_new_unused_feature(...)\n",
    "\n",
    "    # **Add** the feature that gives the highest \"quality\" of the model.\n",
    "    pick_and_add_the_best_feature(...)\n",
    "\n",
    "    if model_quality_has_increased_since_last_round:\n",
    "        round = 0\n",
    "\n",
    "return list_of_best_features\n",
    "```"
   ]
  },
  {
   "cell_type": "markdown",
   "id": "suffering-italy",
   "metadata": {
    "id": "suffering-italy"
   },
   "source": [
    "**1.3.1) In the cell below, you have to implement a function that would iterate over a list of features and use $k$-fold `cross_val_score` to measure the model's \"quality\".** "
   ]
  },
  {
   "cell_type": "code",
   "execution_count": 13,
   "id": "caroline-state",
   "metadata": {
    "id": "caroline-state"
   },
   "outputs": [],
   "source": [
    "from sklearn.metrics import make_scorer\n",
    "\n",
    "def selection_step(model, X, y, used_features=(), cv=3):\n",
    "    \"\"\"\n",
    "    Parameters\n",
    "    ==========\n",
    "        X: ndarray - training inputs\n",
    "        y: ndarray - training targets\n",
    "        used_features: - list of features\n",
    "        cv: int - number of folds\n",
    "\n",
    "    Returns\n",
    "    =======\n",
    "        scores - dictionary of scores\n",
    "    \"\"\"\n",
    "    \n",
    "    scores = {}\n",
    "    \n",
    "    ### BEGIN Solution\n",
    "    features = list(X.columns)\n",
    "    for i, feature in enumerate(features):\n",
    "        if feature not in used_features:\n",
    "            X_new = X[used_features + [feature]]\n",
    "            scores[feature] = np.mean(cross_val_score(model, X_new, y, cv = cv, \n",
    "                                                      scoring = \"neg_mean_squared_log_error\"))\n",
    "    ### END Solution\n",
    "\n",
    "    return scores"
   ]
  },
  {
   "cell_type": "markdown",
   "id": "laughing-patio",
   "metadata": {
    "id": "laughing-patio"
   },
   "source": [
    "**1.3.2) Implement a forward greedy feature selection function (the one described in the pseudocode in subtask 1 above) that would**\n",
    "\n",
    "**- compute the model's \"quality\" over the currently *unused* features**\n",
    "\n",
    "**- find the feature, which has given the best score and add it to the list of the currently *used* features**\n",
    "\n",
    "**- if the model's quality has increased since the last round, add this feature to the list of the best features and  print the best score and the current best features list**\n",
    "\n",
    "**Do not forget to implement the early stopping.**"
   ]
  },
  {
   "cell_type": "code",
   "execution_count": 14,
   "id": "pressed-worse",
   "metadata": {
    "id": "pressed-worse"
   },
   "outputs": [],
   "source": [
    "def forward_steps(X, y, n_rounds, model):\n",
    "    \"\"\"\n",
    "    Parameters\n",
    "    ==========\n",
    "        X: ndarray - training inputs\n",
    "        y: ndarray - training targets\n",
    "        n_rounds: int - early stop when score doesn't increase n_rounds\n",
    "        model: sklearn model\n",
    "\n",
    "    Returns\n",
    "    =======\n",
    "        feat_best_list - list of features\n",
    "    \"\"\"\n",
    "    \n",
    "    feat_best_list = []\n",
    "\n",
    "    ### BEGIN Solution\n",
    "    round_val = 0\n",
    "    min_score = np.inf\n",
    "    feature_amount = len(X.columns)\n",
    "    while round_val < n_rounds:\n",
    "        round_val = round_val + 1\n",
    "        if len(feat_best_list) == feature_amount:\n",
    "            break\n",
    "            \n",
    "        curr_min_score = np.inf\n",
    "        feat_with_min_score = None\n",
    "        for feature, score in selection_step(model, X, y, feat_best_list).items():\n",
    "            if score < curr_min_score:\n",
    "                feat_with_min_score = feature\n",
    "                curr_min_score = score\n",
    "\n",
    "        if curr_min_score < min_score:\n",
    "            min_score = curr_min_score\n",
    "            feat_best_list.append(feat_with_min_score)\n",
    "            round_val = 0\n",
    "    ### END Solution\n",
    "    \n",
    "    return feat_best_list\n"
   ]
  },
  {
   "cell_type": "markdown",
   "id": "geographic-holly",
   "metadata": {
    "id": "geographic-holly"
   },
   "source": [
    "**1.3.3) Use the function implemented above + DecisionTreeRegressor to get the best features according to this algorithm. (HINT: Use ```n_rounds = 2```)**"
   ]
  },
  {
   "cell_type": "code",
   "execution_count": 15,
   "id": "hazardous-retirement",
   "metadata": {
    "colab": {
     "base_uri": "https://localhost:8080/"
    },
    "id": "hazardous-retirement",
    "outputId": "81502f2d-f6fa-4497-d569-58605bfff430"
   },
   "outputs": [
    {
     "data": {
      "text/plain": [
       "['sub_area_Marfino',\n",
       " 'sub_area_Molzhaninovskoe',\n",
       " 'sub_area_Rostokino',\n",
       " 'sub_area_Alekseevskoe',\n",
       " 'sub_area_Orehovo-Borisovo Severnoe',\n",
       " 'sub_area_Poselenie Rjazanovskoe',\n",
       " 'sub_area_Preobrazhenskoe',\n",
       " 'sub_area_Poselenie Kievskij',\n",
       " 'sub_area_Juzhnoe Tushino',\n",
       " 'sub_area_Kuncevo',\n",
       " 'sub_area_Juzhnoe Butovo',\n",
       " 'sub_area_Bibirevo']"
      ]
     },
     "execution_count": 15,
     "metadata": {},
     "output_type": "execute_result"
    }
   ],
   "source": [
    "### BEGIN Solution\n",
    "DecisionTreeReg = DecisionTreeRegressor(max_depth = 5, random_state = 5)\n",
    "best_features = forward_steps(X_train, y_train_log, 2, DecisionTreeReg)\n",
    "best_features\n",
    "### END Solution"
   ]
  },
  {
   "cell_type": "markdown",
   "id": "contrary-packet",
   "metadata": {
    "id": "contrary-packet"
   },
   "source": [
    "**1.3.4) Use Linear Regression, Ridge regression, Random forest and DecisionTree to get the RMSLE scores using these features. Remember the function you wrote earlier.**"
   ]
  },
  {
   "cell_type": "code",
   "execution_count": 16,
   "id": "graduate-tooth",
   "metadata": {
    "colab": {
     "base_uri": "https://localhost:8080/",
     "height": 221
    },
    "id": "graduate-tooth",
    "outputId": "72812408-0c21-4229-ff2d-f29243966f3d"
   },
   "outputs": [
    {
     "data": {
      "text/html": [
       "<div>\n",
       "<style scoped>\n",
       "    .dataframe tbody tr th:only-of-type {\n",
       "        vertical-align: middle;\n",
       "    }\n",
       "\n",
       "    .dataframe tbody tr th {\n",
       "        vertical-align: top;\n",
       "    }\n",
       "\n",
       "    .dataframe thead th {\n",
       "        text-align: right;\n",
       "    }\n",
       "</style>\n",
       "<table border=\"1\" class=\"dataframe\">\n",
       "  <thead>\n",
       "    <tr style=\"text-align: right;\">\n",
       "      <th></th>\n",
       "      <th>Methods</th>\n",
       "      <th>Train error</th>\n",
       "      <th>Test error</th>\n",
       "    </tr>\n",
       "  </thead>\n",
       "  <tbody>\n",
       "    <tr>\n",
       "      <th>0</th>\n",
       "      <td>Linear Regression</td>\n",
       "      <td>0.001376</td>\n",
       "      <td>0.00134</td>\n",
       "    </tr>\n",
       "    <tr>\n",
       "      <th>1</th>\n",
       "      <td>Ridge</td>\n",
       "      <td>0.001376</td>\n",
       "      <td>0.00134</td>\n",
       "    </tr>\n",
       "    <tr>\n",
       "      <th>2</th>\n",
       "      <td>Dtree</td>\n",
       "      <td>0.001376</td>\n",
       "      <td>0.00134</td>\n",
       "    </tr>\n",
       "    <tr>\n",
       "      <th>3</th>\n",
       "      <td>RFR</td>\n",
       "      <td>0.001376</td>\n",
       "      <td>0.00134</td>\n",
       "    </tr>\n",
       "  </tbody>\n",
       "</table>\n",
       "</div>"
      ],
      "text/plain": [
       "             Methods  Train error  Test error\n",
       "0  Linear Regression     0.001376     0.00134\n",
       "1              Ridge     0.001376     0.00134\n",
       "2              Dtree     0.001376     0.00134\n",
       "3                RFR     0.001376     0.00134"
      ]
     },
     "execution_count": 16,
     "metadata": {},
     "output_type": "execute_result"
    }
   ],
   "source": [
    "### BEGIN Solution\n",
    "RMSLE_comparator(X_train[best_features], y_train_log, X_test[best_features], y_test_log)\n",
    "### END Solution"
   ]
  },
  {
   "cell_type": "markdown",
   "id": "infinite-navigation",
   "metadata": {
    "id": "infinite-navigation"
   },
   "source": [
    "<br>"
   ]
  },
  {
   "cell_type": "markdown",
   "id": "individual-rendering",
   "metadata": {
    "id": "individual-rendering"
   },
   "source": [
    "## Task 2. Multi-Class Classification Strategies (1 point)\n",
    "In this task, you will deal with the multiclass classification problem for the Glass Classification Data. Let's load the dataset."
   ]
  },
  {
   "cell_type": "code",
   "execution_count": 17,
   "id": "technical-trader",
   "metadata": {
    "colab": {
     "base_uri": "https://localhost:8080/",
     "height": 142
    },
    "id": "technical-trader",
    "outputId": "91043ffe-6127-441b-a6ae-58f111768d40"
   },
   "outputs": [
    {
     "data": {
      "text/html": [
       "<div>\n",
       "<style scoped>\n",
       "    .dataframe tbody tr th:only-of-type {\n",
       "        vertical-align: middle;\n",
       "    }\n",
       "\n",
       "    .dataframe tbody tr th {\n",
       "        vertical-align: top;\n",
       "    }\n",
       "\n",
       "    .dataframe thead th {\n",
       "        text-align: right;\n",
       "    }\n",
       "</style>\n",
       "<table border=\"1\" class=\"dataframe\">\n",
       "  <thead>\n",
       "    <tr style=\"text-align: right;\">\n",
       "      <th></th>\n",
       "      <th>RI</th>\n",
       "      <th>Na</th>\n",
       "      <th>Mg</th>\n",
       "      <th>Al</th>\n",
       "      <th>Si</th>\n",
       "      <th>K</th>\n",
       "      <th>Ca</th>\n",
       "      <th>Ba</th>\n",
       "      <th>Fe</th>\n",
       "      <th>Type</th>\n",
       "    </tr>\n",
       "  </thead>\n",
       "  <tbody>\n",
       "    <tr>\n",
       "      <th>96</th>\n",
       "      <td>1.51841</td>\n",
       "      <td>13.02</td>\n",
       "      <td>3.62</td>\n",
       "      <td>1.06</td>\n",
       "      <td>72.34</td>\n",
       "      <td>0.64</td>\n",
       "      <td>9.13</td>\n",
       "      <td>0.0</td>\n",
       "      <td>0.15</td>\n",
       "      <td>2</td>\n",
       "    </tr>\n",
       "    <tr>\n",
       "      <th>50</th>\n",
       "      <td>1.52320</td>\n",
       "      <td>13.72</td>\n",
       "      <td>3.72</td>\n",
       "      <td>0.51</td>\n",
       "      <td>71.75</td>\n",
       "      <td>0.09</td>\n",
       "      <td>10.06</td>\n",
       "      <td>0.0</td>\n",
       "      <td>0.16</td>\n",
       "      <td>1</td>\n",
       "    </tr>\n",
       "    <tr>\n",
       "      <th>112</th>\n",
       "      <td>1.52777</td>\n",
       "      <td>12.64</td>\n",
       "      <td>0.00</td>\n",
       "      <td>0.67</td>\n",
       "      <td>72.02</td>\n",
       "      <td>0.06</td>\n",
       "      <td>14.40</td>\n",
       "      <td>0.0</td>\n",
       "      <td>0.00</td>\n",
       "      <td>2</td>\n",
       "    </tr>\n",
       "  </tbody>\n",
       "</table>\n",
       "</div>"
      ],
      "text/plain": [
       "          RI     Na    Mg    Al     Si     K     Ca   Ba    Fe  Type\n",
       "96   1.51841  13.02  3.62  1.06  72.34  0.64   9.13  0.0  0.15     2\n",
       "50   1.52320  13.72  3.72  0.51  71.75  0.09  10.06  0.0  0.16     1\n",
       "112  1.52777  12.64  0.00  0.67  72.02  0.06  14.40  0.0  0.00     2"
      ]
     },
     "execution_count": 17,
     "metadata": {},
     "output_type": "execute_result"
    }
   ],
   "source": [
    "data = pd.read_csv('glass.csv')\n",
    "X, y = data.drop('Type', axis=1), data.Type\n",
    "data.sample(3)"
   ]
  },
  {
   "cell_type": "markdown",
   "id": "flying-region",
   "metadata": {
    "id": "flying-region"
   },
   "source": [
    "The features of each glass object correspond to the fraction of the particular chemical element in the object. The target variable corresponds to the type of glass (6 classes).\n",
    "\n",
    "In this problem, you have to empirically compare the time complexity and performance of several multiclass labeling strategies for different algorithms. You must consider the following algorithms:\n",
    "* Single Decision Tree (depth 7)\n",
    "* Medium Random Forest (100 trees of depth 3)\n",
    "* KNearestNeighbors (5 neighbors)\n",
    "* Logistic Regression\n",
    "\n",
    "Note that all these algorithms by default support **multiclass labeling**. Nevertheless, we want you to compare this approach with **OneVSRest** and **OneVSOne** approaches applied to these algorithms. More precisely, for every pair (algorithm, approach) you are to perform a 5-fold cross-validation on the data and output the validation score and the computation time in the **table** form. Please note that you also have to choose the metric to optimize during CV (e.g. accuracy, balanced accuracy) on your own. \n",
    "\n",
    "After that, you are to answer the following questions:\n",
    "* Which metric did you choose to optimize during cross-validation and why? Explain\n",
    "* For which algorithms the usage of OneVSRest/OneVSOne approach provides significantly better performance without a significant increase in computation time?"
   ]
  },
  {
   "cell_type": "code",
   "execution_count": 18,
   "id": "authentic-slope",
   "metadata": {
    "colab": {
     "base_uri": "https://localhost:8080/",
     "height": 301
    },
    "id": "authentic-slope",
    "outputId": "5421c6dc-461c-4d7e-c472-aaf96785958a"
   },
   "outputs": [
    {
     "name": "stdout",
     "output_type": "stream",
     "text": [
      "Cross Validation Scores\n"
     ]
    },
    {
     "data": {
      "text/html": [
       "<div>\n",
       "<style scoped>\n",
       "    .dataframe tbody tr th:only-of-type {\n",
       "        vertical-align: middle;\n",
       "    }\n",
       "\n",
       "    .dataframe tbody tr th {\n",
       "        vertical-align: top;\n",
       "    }\n",
       "\n",
       "    .dataframe thead th {\n",
       "        text-align: right;\n",
       "    }\n",
       "</style>\n",
       "<table border=\"1\" class=\"dataframe\">\n",
       "  <thead>\n",
       "    <tr style=\"text-align: right;\">\n",
       "      <th></th>\n",
       "      <th>Logistic</th>\n",
       "      <th>Random Forest</th>\n",
       "      <th>K Nearest Neighbors</th>\n",
       "      <th>Decision Tree</th>\n",
       "    </tr>\n",
       "  </thead>\n",
       "  <tbody>\n",
       "    <tr>\n",
       "      <th>Multiclass</th>\n",
       "      <td>0.549127</td>\n",
       "      <td>0.486667</td>\n",
       "      <td>0.548234</td>\n",
       "      <td>0.530198</td>\n",
       "    </tr>\n",
       "    <tr>\n",
       "      <th>OneVsRest</th>\n",
       "      <td>0.458909</td>\n",
       "      <td>0.562857</td>\n",
       "      <td>0.602202</td>\n",
       "      <td>0.594524</td>\n",
       "    </tr>\n",
       "    <tr>\n",
       "      <th>OneVsOne</th>\n",
       "      <td>0.512321</td>\n",
       "      <td>0.629365</td>\n",
       "      <td>0.560139</td>\n",
       "      <td>0.648433</td>\n",
       "    </tr>\n",
       "  </tbody>\n",
       "</table>\n",
       "</div>"
      ],
      "text/plain": [
       "            Logistic  Random Forest  K Nearest Neighbors  Decision Tree\n",
       "Multiclass  0.549127       0.486667             0.548234       0.530198\n",
       "OneVsRest   0.458909       0.562857             0.602202       0.594524\n",
       "OneVsOne    0.512321       0.629365             0.560139       0.648433"
      ]
     },
     "metadata": {},
     "output_type": "display_data"
    },
    {
     "name": "stdout",
     "output_type": "stream",
     "text": [
      "Training Duration CV=5\n"
     ]
    },
    {
     "data": {
      "text/html": [
       "<div>\n",
       "<style scoped>\n",
       "    .dataframe tbody tr th:only-of-type {\n",
       "        vertical-align: middle;\n",
       "    }\n",
       "\n",
       "    .dataframe tbody tr th {\n",
       "        vertical-align: top;\n",
       "    }\n",
       "\n",
       "    .dataframe thead th {\n",
       "        text-align: right;\n",
       "    }\n",
       "</style>\n",
       "<table border=\"1\" class=\"dataframe\">\n",
       "  <thead>\n",
       "    <tr style=\"text-align: right;\">\n",
       "      <th></th>\n",
       "      <th>Logistic</th>\n",
       "      <th>Random Forest</th>\n",
       "      <th>K Nearest Neighbors</th>\n",
       "      <th>Decision Tree</th>\n",
       "    </tr>\n",
       "  </thead>\n",
       "  <tbody>\n",
       "    <tr>\n",
       "      <th>Multiclass</th>\n",
       "      <td>2.387468</td>\n",
       "      <td>0.435131</td>\n",
       "      <td>0.018628</td>\n",
       "      <td>0.008341</td>\n",
       "    </tr>\n",
       "    <tr>\n",
       "      <th>OneVsRest</th>\n",
       "      <td>1.363383</td>\n",
       "      <td>1.682861</td>\n",
       "      <td>0.051359</td>\n",
       "      <td>0.026913</td>\n",
       "    </tr>\n",
       "    <tr>\n",
       "      <th>OneVsOne</th>\n",
       "      <td>0.227448</td>\n",
       "      <td>4.028338</td>\n",
       "      <td>0.207857</td>\n",
       "      <td>0.038884</td>\n",
       "    </tr>\n",
       "  </tbody>\n",
       "</table>\n",
       "</div>"
      ],
      "text/plain": [
       "            Logistic  Random Forest  K Nearest Neighbors  Decision Tree\n",
       "Multiclass  2.387468       0.435131             0.018628       0.008341\n",
       "OneVsRest   1.363383       1.682861             0.051359       0.026913\n",
       "OneVsOne    0.227448       4.028338             0.207857       0.038884"
      ]
     },
     "metadata": {},
     "output_type": "display_data"
    }
   ],
   "source": [
    "### BEGIN Solution (do not delete this comment)\n",
    "SingleDecisionTree = DecisionTreeClassifier(max_depth = 7, random_state = 0)\n",
    "MediumRandomForest = RandomForestClassifier(n_estimators = 100, max_depth = 3, n_jobs=-1)\n",
    "KNearestNeighbors  = KNeighborsClassifier(n_neighbors = 5, n_jobs = -1)\n",
    "LogisticReg = LogisticRegression(random_state = 0, n_jobs = -1)\n",
    "scaler = StandardScaler()\n",
    "\n",
    "CrossValidationScores = pd.DataFrame(index = ['Multiclass', 'OneVsRest', 'OneVsOne'])\n",
    "TrainingDuration = pd.DataFrame(index = ['Multiclass', 'OneVsRest', 'OneVsOne'])\n",
    "\n",
    "models = {\"Logistic\" : LogisticReg,\n",
    "          \"Random Forest\" : MediumRandomForest,\n",
    "          \"K Nearest Neighbors\" : KNearestNeighbors,\n",
    "          \"Decision Tree\" : SingleDecisionTree\n",
    "         }\n",
    "\n",
    "X_scaled = scaler.fit_transform(X)\n",
    "\n",
    "for model in models:\n",
    "    times = []\n",
    "    scores = []\n",
    "    \n",
    "    clf = models[model]\n",
    "    time_start = time.perf_counter()\n",
    "    clf.fit(X_scaled, y)\n",
    "    scores.append(cross_val_score(clf, X_scaled, y, cv = 5, scoring = 'balanced_accuracy', \n",
    "                                  n_jobs = -1).mean())\n",
    "    time_finish = time.perf_counter()\n",
    "    #time1 = time_finish - time_start\n",
    "    times.append(time_finish - time_start)\n",
    "    \n",
    "    ovr_clf = OneVsRestClassifier(clf)\n",
    "    time_start = time.perf_counter()\n",
    "    ovr_clf.fit(X_scaled, y)\n",
    "    scores.append(cross_val_score(ovr_clf, X_scaled, y, cv = 5, scoring = 'balanced_accuracy', \n",
    "                                  n_jobs = -1).mean())\n",
    "    time_finish = time.perf_counter()\n",
    "    #time2 = time_finish - time_start\n",
    "    times.append(time_finish - time_start)\n",
    "    \n",
    "    ovo_clf = OneVsOneClassifier(clf)\n",
    "    time_start = time.perf_counter()\n",
    "    ovo_clf.fit(X_scaled, y)\n",
    "    scores.append(cross_val_score(ovo_clf, X_scaled, y, cv = 5, scoring = 'balanced_accuracy', \n",
    "                                  n_jobs = -1).mean())\n",
    "    time_finish = time.perf_counter()\n",
    "    #time3 = time_finish - time_start\n",
    "    times.append(time_finish - time_start)\n",
    "\n",
    "    CrossValidationScores[model] = scores\n",
    "    TrainingDuration[model] = times\n",
    "\n",
    "print(\"Cross Validation Scores\")\n",
    "display(CrossValidationScores)\n",
    "print(\"Training Duration CV=5\")\n",
    "display(TrainingDuration)\n",
    "\n",
    "### END Solution (do not delete this comment)"
   ]
  },
  {
   "cell_type": "markdown",
   "id": "married-preserve",
   "metadata": {
    "id": "married-preserve"
   },
   "source": [
    "**Which metric did you choose to optimize during cross validation and why? Explain**"
   ]
  },
  {
   "cell_type": "markdown",
   "id": "dutch-alfred",
   "metadata": {
    "id": "dutch-alfred"
   },
   "source": [
    "**Your text answer (do not delete this comment)**:\n",
    "\n",
    "The given data classes are highly unbalanced, so for cross-validation scores I've chosen \"balanced accuracy\" as a metric."
   ]
  },
  {
   "cell_type": "markdown",
   "id": "elect-jerusalem",
   "metadata": {
    "id": "elect-jerusalem"
   },
   "source": [
    "**For which algorithms the usage of OneVSRest/OneVSOne approach provides significantly better performance without a significant increase in computation time?**"
   ]
  },
  {
   "cell_type": "markdown",
   "id": "CH04Ord57RS4",
   "metadata": {
    "id": "CH04Ord57RS4"
   },
   "source": [
    "**Your text answer (do not delete this comment)**:\n",
    "\n",
    "According to the obtained data it is for DecisionTreeClassifier."
   ]
  },
  {
   "cell_type": "markdown",
   "id": "electric-matthew",
   "metadata": {
    "id": "electric-matthew"
   },
   "source": [
    "# Task 3. Stacking (2 points)"
   ]
  },
  {
   "cell_type": "markdown",
   "id": "third-liverpool",
   "metadata": {
    "id": "third-liverpool"
   },
   "source": [
    "Stacking is an ensembling approach, which combines several algorithms (base models) to get better results. This is achieved by **a)** training the base models (any ML models) on the initial train data (or parts of the train data, see the paragraph below), **b)** training the meta-model (also an ML model) on the predictions of those base models.\n",
    "\n",
    "One of the main problems of stacking is overfitting. To avoid it, when evaluating the performance of the meta-model on the train set, the training data is divided into $ n $ folds, $ (n-1) $ of which are used for training the base models. The $ n $ -th fold is used for the overall prediction (calculating the meta-factor) in the following manner: the predictions on the $ n $ -th fold are made by the base models (already trained on the rest of the dataset), then these predictions on the $ n $ -th fold are fed as inputs to the meta-model.\n",
    "\n",
    "When evaluating the performance of the meta-model on the test set, there can be used various approaches$.^{[1]}$ For example, in order, to obtain meta-factors for the test data, the base classifiers can be retrained on the entire training set, since the problem of overfitting does not arise here. In other words, if we want to calculate the factors for the test set, we can safely use the training set to train the base classifiers (once again, as it is said in the paragraph above, if we want to calculate factors for the training set, then it is necessary to ensure that the classifier does not predict for those objects on which it has been trained).  \n",
    "\n",
    "You can read more details about stacking [blockpost](https://blog.statsbot.co/ensemble-learning-d1dcd548e936), [kaggle ensemble guide](https://mlwave.com/kaggle-ensembling-guide/).\n",
    "\n",
    "P.S. Stacking and Blending are two similar approaches to combining classifiers (ensembling). The difference is that Stacking uses out-of-fold predictions for the train set, and Blending uses a validation set to train the next layer ([source](quora.com/What-are-examples-of-blending-and-stacking-in-Machine-Learning)). Because they are so similar you can use any of them. \n",
    "\n",
    "[1] http://www.machinelearning.ru/wiki/images/5/56/Guschin2015Stacking.pdf  "
   ]
  },
  {
   "cell_type": "markdown",
   "id": "recognized-guest",
   "metadata": {
    "id": "recognized-guest"
   },
   "source": [
    "**Your task will be:**\n",
    "\n",
    "* Complete the ```meta_classfier``` function\n",
    "* Choose 6 different base models (base models can be any models that you know, and can differ between each other by different hyperparameters, models of ml, features e.t.c) and train them.\n",
    "* Report individual accuracy on the test set for each of the models.\n",
    "* Train the metaclassifier (in this case, once again, it is just an ML model) on the original dataset's features, report score on test.\n",
    "* Train the metaclassifier on the base models using $n$-fold cross-validation, as described above. Report the training score of the meta-classifier on the $ n $-th fold. Retrain the base models on the whole training set. Report the test score (accuracy) of the meta-classifier in this case.\n",
    "* Does stacking help to gain a better score?"
   ]
  },
  {
   "cell_type": "markdown",
   "id": "incident-ceremony",
   "metadata": {
    "id": "incident-ceremony"
   },
   "source": [
    "For this task we will use the dataset fetch_covertype from [sklearn](https://scikit-learn.org/stable/modules/generated/sklearn.datasets.fetch_covtype.html#sklearn.datasets.fetch_covtype). Split it train-test - 60/40.\n",
    "More details about this dataset you can find [here](https://archive.ics.uci.edu/ml/datasets/Covertype)"
   ]
  },
  {
   "cell_type": "code",
   "execution_count": 19,
   "id": "banner-input",
   "metadata": {
    "id": "banner-input"
   },
   "outputs": [],
   "source": [
    "from sklearn import datasets\n",
    "fc = sklearn.datasets.fetch_covtype()\n",
    "#X_train, X_test, y_train, y_test = train_test_split(fc['data'], fc['target'], test_size=0.4, random_state = 28)\n",
    "\n",
    "#it was decided to shorten the dataset to reduce the calculation time for further tasks\n",
    "X_train, X_test, y_train, y_test = train_test_split(fc['data'], fc['target'], test_size=0.5)\n",
    "X_train, X_test, y_train, y_test = train_test_split(X_train, y_train, test_size=0.4, random_state = 28)\n",
    "scaler = StandardScaler()\n",
    "X_train = scaler.fit_transform(X_train)\n",
    "X_test = scaler.transform(X_test)"
   ]
  },
  {
   "cell_type": "markdown",
   "id": "collected-flash",
   "metadata": {
    "id": "collected-flash"
   },
   "source": [
    "Write meta classifier function."
   ]
  },
  {
   "cell_type": "code",
   "execution_count": 20,
   "id": "brilliant-greensboro",
   "metadata": {
    "id": "brilliant-greensboro"
   },
   "outputs": [],
   "source": [
    "def meta_classifier(base_clfs, final_classifier, X_train, X_test, y_train, cv):\n",
    "    \"\"\"\n",
    "    Meta classifier prediction using stacking. \n",
    "    Input:\n",
    "    :param base_clfs: list,  base classifiers which will be stacked together.\n",
    "    :param final_classifier: estimator, a classifier which will be used to combine the base estimators. \n",
    "    :param X_train: numpy array or pandas table, train set.\n",
    "    :param X_test: numpy array or pandas table, target for train set.\n",
    "    :param X_train: numpy array or pandas table, test set.\n",
    "    :param cv: number of cross-validation folds.\n",
    "    \n",
    "    Output:\n",
    "    :param y_pred: numpy array or pandas table, prediction of meta classifier using stacking on test set.\n",
    "    :param final_classifier(optional): estimator, trained final_calssifier.\n",
    "    \n",
    "    \n",
    "    More details https://scikit-learn.org/stable/modules/generated/sklearn.ensemble.StackingClassifier.html\n",
    "    \n",
    "    \"\"\"\n",
    "    ### BEGIN Solution (do not delete this comment)\n",
    "    meta_train = []\n",
    "    meta_test  = []\n",
    "    \n",
    "    for clf in base_clfs:\n",
    "        meta_train.append(cross_val_predict(clf, X_train, y_train, cv = cv))\n",
    "        clf.fit(X_train, y_train)\n",
    "        meta_test.append(clf.predict(X_test))\n",
    "        \n",
    "    meta_train = np.stack(meta_train, axis = -1)\n",
    "    final_classifier.fit(meta_train, y_train)\n",
    "    meta_test = np.stack(meta_test, axis = -1)\n",
    "    \n",
    "    y_pred = final_classifier.predict(meta_test)\n",
    "    \n",
    "    return y_pred, final_classifier\n",
    "    ### END Solution (do not delete this comment)\n",
    "    pass"
   ]
  },
  {
   "cell_type": "markdown",
   "id": "vfZmdicwORxq",
   "metadata": {
    "id": "vfZmdicwORxq"
   },
   "source": [
    "### Subproblem 3.1 (1 point)"
   ]
  },
  {
   "cell_type": "markdown",
   "id": "incredible-wichita",
   "metadata": {
    "id": "incredible-wichita"
   },
   "source": [
    "**3.1.1) Chose 6 different base models (base models can be any models that you know,and can differ with each other by different hyperparameters,  models of ml, features e.t.c) and train them.**"
   ]
  },
  {
   "cell_type": "code",
   "execution_count": 21,
   "id": "cleared-supply",
   "metadata": {
    "colab": {
     "base_uri": "https://localhost:8080/"
    },
    "id": "cleared-supply",
    "outputId": "6c3af77e-4cc3-41cf-85e1-c179b6332f02"
   },
   "outputs": [
    {
     "name": "stdout",
     "output_type": "stream",
     "text": [
      "LogisticRegression\n",
      "RandomForestClassifier\n",
      "KNeighborsClassifier\n",
      "DecisionTreeClassifier\n",
      "GaussNaiveBayes\n",
      "XGBClassifier\n",
      "[00:26:44] WARNING: /Users/travis/build/dmlc/xgboost/src/learner.cc:1115: Starting in XGBoost 1.3.0, the default evaluation metric used with the objective 'multi:softprob' was changed from 'merror' to 'mlogloss'. Explicitly set eval_metric if you'd like to restore the old behavior.\n"
     ]
    }
   ],
   "source": [
    "### BEGIN Solution (do not delete this comment)\n",
    "LogisticReg = LogisticRegression(random_state = 0, n_jobs = -1, max_iter = 2000)\n",
    "RandomForestClf = RandomForestClassifier(n_estimators = 50, random_state = 0, max_depth = 5, n_jobs = -1)\n",
    "KNeighborsClf = KNeighborsClassifier(n_neighbors = 5, n_jobs = -1)\n",
    "DecisionTreeClf = DecisionTreeClassifier(random_state = 0, max_depth = 5)\n",
    "GaussNaiveBayes = GaussianNB()\n",
    "XGBClf = XGBClassifier(n_estimators = 50, random_state = 0, max_depth = 5, n_jobs=-1)\n",
    "\n",
    "models = {\"LogisticRegression\" : LogisticReg,\n",
    "          \"RandomForestClassifier\" : RandomForestClf,\n",
    "          \"KNeighborsClassifier\" : KNeighborsClf,\n",
    "          \"DecisionTreeClassifier\" : DecisionTreeClf, \n",
    "          \"GaussNaiveBayes\" : GaussNaiveBayes,\n",
    "          \"XGBClassifier\" : XGBClf\n",
    "         }\n",
    "\n",
    "for model in models:\n",
    "    print(model)\n",
    "    clf = models[model]\n",
    "    clf.fit(X_train, y_train) \n",
    "### END Solution (do not delete this comment)"
   ]
  },
  {
   "cell_type": "markdown",
   "id": "streaming-crowd",
   "metadata": {
    "id": "streaming-crowd"
   },
   "source": [
    "**3.1.2) Report individual scores on test set. As a score use accuracy.**"
   ]
  },
  {
   "cell_type": "code",
   "execution_count": 22,
   "id": "standing-breakdown",
   "metadata": {
    "colab": {
     "base_uri": "https://localhost:8080/"
    },
    "id": "standing-breakdown",
    "outputId": "34a2ebd2-6a1c-40c4-afec-d5cab639cd46"
   },
   "outputs": [
    {
     "name": "stdout",
     "output_type": "stream",
     "text": [
      "LogisticRegression\n",
      "RandomForestClassifier\n",
      "KNeighborsClassifier\n",
      "DecisionTreeClassifier\n",
      "GaussNaiveBayes\n",
      "XGBClassifier\n"
     ]
    },
    {
     "data": {
      "text/html": [
       "<div>\n",
       "<style scoped>\n",
       "    .dataframe tbody tr th:only-of-type {\n",
       "        vertical-align: middle;\n",
       "    }\n",
       "\n",
       "    .dataframe tbody tr th {\n",
       "        vertical-align: top;\n",
       "    }\n",
       "\n",
       "    .dataframe thead th {\n",
       "        text-align: right;\n",
       "    }\n",
       "</style>\n",
       "<table border=\"1\" class=\"dataframe\">\n",
       "  <thead>\n",
       "    <tr style=\"text-align: right;\">\n",
       "      <th></th>\n",
       "      <th>Model</th>\n",
       "      <th>Accuracy</th>\n",
       "    </tr>\n",
       "  </thead>\n",
       "  <tbody>\n",
       "    <tr>\n",
       "      <th>0</th>\n",
       "      <td>LogisticRegression</td>\n",
       "      <td>0.723673</td>\n",
       "    </tr>\n",
       "    <tr>\n",
       "      <th>1</th>\n",
       "      <td>RandomForestClassifier</td>\n",
       "      <td>0.679174</td>\n",
       "    </tr>\n",
       "    <tr>\n",
       "      <th>2</th>\n",
       "      <td>KNeighborsClassifier</td>\n",
       "      <td>0.894641</td>\n",
       "    </tr>\n",
       "    <tr>\n",
       "      <th>3</th>\n",
       "      <td>DecisionTreeClassifier</td>\n",
       "      <td>0.702151</td>\n",
       "    </tr>\n",
       "    <tr>\n",
       "      <th>4</th>\n",
       "      <td>GaussNaiveBayes</td>\n",
       "      <td>0.086555</td>\n",
       "    </tr>\n",
       "    <tr>\n",
       "      <th>5</th>\n",
       "      <td>XGBClassifier</td>\n",
       "      <td>0.802707</td>\n",
       "    </tr>\n",
       "  </tbody>\n",
       "</table>\n",
       "</div>"
      ],
      "text/plain": [
       "                    Model  Accuracy\n",
       "0      LogisticRegression  0.723673\n",
       "1  RandomForestClassifier  0.679174\n",
       "2    KNeighborsClassifier  0.894641\n",
       "3  DecisionTreeClassifier  0.702151\n",
       "4         GaussNaiveBayes  0.086555\n",
       "5           XGBClassifier  0.802707"
      ]
     },
     "metadata": {},
     "output_type": "display_data"
    }
   ],
   "source": [
    "### BEGIN Solution (do not delete this comment)\n",
    "scores = []\n",
    "model_names = []\n",
    "for model in models:\n",
    "    clf = models[model]\n",
    "    print(model)\n",
    "    model_names.append(model)\n",
    "    scores.append(accuracy_score(y_test, clf.predict(X_test)))\n",
    "    \n",
    "accuracy_table = pd.DataFrame({\"Model\" : model_names,\n",
    "                               \"Accuracy\" : scores\n",
    "                              })\n",
    "display(accuracy_table)\n",
    "### END Solution (do not delete this comment)"
   ]
  },
  {
   "cell_type": "markdown",
   "id": "8CsZdyGPOj6E",
   "metadata": {
    "id": "8CsZdyGPOj6E"
   },
   "source": [
    "### Subproblem 3.2 (1 point)"
   ]
  },
  {
   "cell_type": "markdown",
   "id": "adolescent-street",
   "metadata": {
    "id": "adolescent-street"
   },
   "source": [
    "**3.2.1) Train metaclassifier (in this case, once again, it is just an ML model) on original dataset's features. And report score on test.**"
   ]
  },
  {
   "cell_type": "code",
   "execution_count": 23,
   "id": "lesbian-fields",
   "metadata": {
    "id": "lesbian-fields"
   },
   "outputs": [
    {
     "name": "stdout",
     "output_type": "stream",
     "text": [
      "meta_classifier accuracy on test set: 0.6791735153137183\n"
     ]
    }
   ],
   "source": [
    "### BEGIN Solution (do not delete this comment)\n",
    "final_classifier = RandomForestClassifier(n_estimators = 50, random_state = 0, max_depth = 5, n_jobs = -1)\n",
    "final_classifier.fit(X_train, y_train)\n",
    "print(\"meta_classifier accuracy on test set:\", accuracy_score(y_test, final_classifier.predict(X_test)))\n",
    "### END Solution (do not delete this comment)"
   ]
  },
  {
   "cell_type": "markdown",
   "id": "horizontal-wallace",
   "metadata": {
    "id": "horizontal-wallace"
   },
   "source": [
    "**3.2.2) Train the metaclassifier on the base models using $n$-fold cross-validation, as described above. Report the training score of the meta-classifier on the $ n $-th fold. Retrain the base models on the whole training set. Report the test score (accuracy) of the meta-classifier in this case.**"
   ]
  },
  {
   "cell_type": "code",
   "execution_count": 25,
   "id": "renewable-concrete",
   "metadata": {
    "id": "renewable-concrete"
   },
   "outputs": [
    {
     "name": "stdout",
     "output_type": "stream",
     "text": [
      "[01:23:50] WARNING: /Users/travis/build/dmlc/xgboost/src/learner.cc:1115: Starting in XGBoost 1.3.0, the default evaluation metric used with the objective 'multi:softprob' was changed from 'merror' to 'mlogloss'. Explicitly set eval_metric if you'd like to restore the old behavior.\n",
      "[01:24:16] WARNING: /Users/travis/build/dmlc/xgboost/src/learner.cc:1115: Starting in XGBoost 1.3.0, the default evaluation metric used with the objective 'multi:softprob' was changed from 'merror' to 'mlogloss'. Explicitly set eval_metric if you'd like to restore the old behavior.\n",
      "[01:24:47] WARNING: /Users/travis/build/dmlc/xgboost/src/learner.cc:1115: Starting in XGBoost 1.3.0, the default evaluation metric used with the objective 'multi:softprob' was changed from 'merror' to 'mlogloss'. Explicitly set eval_metric if you'd like to restore the old behavior.\n",
      "[01:25:19] WARNING: /Users/travis/build/dmlc/xgboost/src/learner.cc:1115: Starting in XGBoost 1.3.0, the default evaluation metric used with the objective 'multi:softprob' was changed from 'merror' to 'mlogloss'. Explicitly set eval_metric if you'd like to restore the old behavior.\n",
      "[01:25:49] WARNING: /Users/travis/build/dmlc/xgboost/src/learner.cc:1115: Starting in XGBoost 1.3.0, the default evaluation metric used with the objective 'multi:softprob' was changed from 'merror' to 'mlogloss'. Explicitly set eval_metric if you'd like to restore the old behavior.\n",
      "[01:26:23] WARNING: /Users/travis/build/dmlc/xgboost/src/learner.cc:1115: Starting in XGBoost 1.3.0, the default evaluation metric used with the objective 'multi:softprob' was changed from 'merror' to 'mlogloss'. Explicitly set eval_metric if you'd like to restore the old behavior.\n",
      "meta_classifier accuracy on test set: 0.88197378725162\n"
     ]
    }
   ],
   "source": [
    "### BEGIN Solution (do not delete this comment)\n",
    "final_classifier = RandomForestClassifier(n_estimators = 50, random_state = 0, max_depth = 5, n_jobs = -1)\n",
    "models = [LogisticReg, RandomForestClf, KNeighborsClf, DecisionTreeClf, \n",
    "          GaussNaiveBayes, XGBClf]\n",
    "y_pred, fc = meta_classifier(models, final_classifier, X_train, X_test, y_train, cv = 5)\n",
    "print(\"meta_classifier accuracy on test set:\", accuracy_score(y_test, y_pred))\n",
    "### END Solution (do not delete this comment)"
   ]
  },
  {
   "cell_type": "markdown",
   "id": "printable-premium",
   "metadata": {
    "id": "printable-premium"
   },
   "source": [
    "**3.2.3) Report score(accuracy) on test.**"
   ]
  },
  {
   "cell_type": "code",
   "execution_count": 26,
   "id": "auburn-easter",
   "metadata": {
    "id": "auburn-easter"
   },
   "outputs": [],
   "source": [
    "### BEGIN Solution (do not delete this comment)\n",
    "#all computitions are same as in the previous cell\n",
    "### END Solution (do not delete this comment)"
   ]
  },
  {
   "cell_type": "markdown",
   "id": "premier-scout",
   "metadata": {
    "id": "premier-scout"
   },
   "source": [
    "**3.2.4) Does stacking helped to gain a better score?**"
   ]
  },
  {
   "cell_type": "markdown",
   "id": "vSV5hJFR7RS-",
   "metadata": {
    "id": "vSV5hJFR7RS-"
   },
   "source": [
    "**Your text answer (do not delete this comment)**:\n",
    "\n",
    "The results show that the accuracy of the post-stack metaclassifier is significantly higher than that of the metaclassifier trained on the original features of the dataset. However, stacking does not provide a better result - the base model KNeighborsClassifier achieves better accuracy than the stacking meta-classifier using this base model."
   ]
  },
  {
   "cell_type": "code",
   "execution_count": null,
   "id": "offensive-parts",
   "metadata": {
    "id": "offensive-parts"
   },
   "outputs": [],
   "source": []
  }
 ],
 "metadata": {
  "colab": {
   "name": "ML_HW_2.ipynb",
   "provenance": []
  },
  "kernelspec": {
   "display_name": "Python 3 (ipykernel)",
   "language": "python",
   "name": "python3"
  },
  "language_info": {
   "codemirror_mode": {
    "name": "ipython",
    "version": 3
   },
   "file_extension": ".py",
   "mimetype": "text/x-python",
   "name": "python",
   "nbconvert_exporter": "python",
   "pygments_lexer": "ipython3",
   "version": "3.9.7"
  }
 },
 "nbformat": 4,
 "nbformat_minor": 5
}
